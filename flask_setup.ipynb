{
 "cells": [
  {
   "cell_type": "code",
   "execution_count": 1,
   "metadata": {},
   "outputs": [],
   "source": [
    "# Python SQL toolkit and Object Relational Mapper\n",
    "import sqlalchemy\n",
    "from sqlalchemy.ext.automap import automap_base\n",
    "from sqlalchemy.orm import Session\n",
    "from sqlalchemy import create_engine, inspect"
   ]
  },
  {
   "cell_type": "code",
   "execution_count": 2,
   "metadata": {},
   "outputs": [],
   "source": [
    "# Create engine using the `VAERS.sqlite` database file\n",
    "engine = create_engine(\"sqlite:///Data/VAERS.sqlite\")"
   ]
  },
  {
   "cell_type": "code",
   "execution_count": 3,
   "metadata": {},
   "outputs": [],
   "source": [
    "# Declare a Base using `automap_base()`\n",
    "Base = automap_base()"
   ]
  },
  {
   "cell_type": "code",
   "execution_count": 4,
   "metadata": {},
   "outputs": [],
   "source": [
    "# Use the Base class to reflect the database tables\n",
    "Base.prepare(engine, reflect=True)"
   ]
  },
  {
   "cell_type": "code",
   "execution_count": 5,
   "metadata": {},
   "outputs": [
    {
     "data": {
      "text/plain": [
       "[]"
      ]
     },
     "execution_count": 5,
     "metadata": {},
     "output_type": "execute_result"
    }
   ],
   "source": [
    "# Print all of the classes mapped to the Base\n",
    "Base.classes.keys()"
   ]
  },
  {
   "cell_type": "code",
   "execution_count": 16,
   "metadata": {},
   "outputs": [
    {
     "ename": "SyntaxError",
     "evalue": "invalid syntax (<ipython-input-16-f2f227dd2f51>, line 1)",
     "output_type": "error",
     "traceback": [
      "\u001b[0;36m  File \u001b[0;32m\"<ipython-input-16-f2f227dd2f51>\"\u001b[0;36m, line \u001b[0;32m1\u001b[0m\n\u001b[0;31m    vaers = Base.classes.'2021VAERS'\u001b[0m\n\u001b[0m                                   ^\u001b[0m\n\u001b[0;31mSyntaxError\u001b[0m\u001b[0;31m:\u001b[0m invalid syntax\n"
     ]
    }
   ],
   "source": [
    "vaers = Base.classes.'2021VAERS'"
   ]
  },
  {
   "cell_type": "code",
   "execution_count": 6,
   "metadata": {},
   "outputs": [],
   "source": [
    "import pandas as pd\n",
    "import sqlite3"
   ]
  },
  {
   "cell_type": "code",
   "execution_count": 7,
   "metadata": {},
   "outputs": [],
   "source": [
    "conn = sqlite3.connect(\"Data/VAERS.db\")"
   ]
  },
  {
   "cell_type": "code",
   "execution_count": 8,
   "metadata": {},
   "outputs": [],
   "source": [
    "cur = conn.cursor()"
   ]
  },
  {
   "cell_type": "code",
   "execution_count": 12,
   "metadata": {},
   "outputs": [
    {
     "data": {
      "text/plain": [
       "<sqlite3.Cursor at 0x7f95e0728730>"
      ]
     },
     "execution_count": 12,
     "metadata": {},
     "output_type": "execute_result"
    }
   ],
   "source": [
    "cur.execute(\"select * from '2021VAERS' limit 5;\")"
   ]
  },
  {
   "cell_type": "code",
   "execution_count": 13,
   "metadata": {},
   "outputs": [
    {
     "name": "stdout",
     "output_type": "stream",
     "text": [
      "[(0, 916710, 'COVID19', 'MODERNA', '1', 'LA', 'MO', 23.0, 'F', None, None, 'Y', None, 'Y', None, None, None, 'U', '12/29/2020', '01/01/2021', 3.0, 'Appendicitis', 'Band neutrophil percentage increased', 'Surgery', 'White blood cell count increased', None), (1, 916741, 'COVID19', 'PFIZER\\\\BIONTECH', '1', 'LA', 'AR', 68.0, 'F', None, None, None, None, None, None, None, 'Y', 'N', '12/21/2020', '12/22/2020', 1.0, 'Chills', 'Complex regional pain syndrome', 'Fatigue', 'Headache', 'Joint range of motion decreased'), (2, 916741, 'COVID19', 'PFIZER\\\\BIONTECH', '1', 'LA', 'AR', 68.0, 'F', None, None, None, None, None, None, None, 'Y', 'N', '12/21/2020', '12/22/2020', 1.0, 'Myalgia', 'Pain in extremity', 'Peripheral swelling', 'X-ray abnormal', None), (3, 916742, 'COVID19', 'PFIZER\\\\BIONTECH', '1', None, 'MN', 29.0, 'F', None, None, 'Y', None, 'Y', 4.0, None, None, 'U', '12/29/2020', '12/29/2020', 0.0, 'Anaphylactic reaction', 'Blood test', 'Burning sensation', 'Central venous catheterisation', 'Dysphonia'), (4, 916742, 'COVID19', 'PFIZER\\\\BIONTECH', '1', None, 'MN', 29.0, 'F', None, None, 'Y', None, 'Y', 4.0, None, None, 'U', '12/29/2020', '12/29/2020', 0.0, 'Intensive care', 'Pruritus', 'Rash', 'Rash macular', 'Throat tightness')]\n"
     ]
    }
   ],
   "source": [
    "results = cur.fetchall()\n",
    "print(results)"
   ]
  },
  {
   "cell_type": "code",
   "execution_count": null,
   "metadata": {},
   "outputs": [],
   "source": []
  }
 ],
 "metadata": {
  "kernelspec": {
   "display_name": "Python [conda env:PythonData] *",
   "language": "python",
   "name": "conda-env-PythonData-py"
  },
  "language_info": {
   "codemirror_mode": {
    "name": "ipython",
    "version": 3
   },
   "file_extension": ".py",
   "mimetype": "text/x-python",
   "name": "python",
   "nbconvert_exporter": "python",
   "pygments_lexer": "ipython3",
   "version": "3.6.12"
  }
 },
 "nbformat": 4,
 "nbformat_minor": 4
}
