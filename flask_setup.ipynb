{
 "cells": [
  {
   "cell_type": "code",
   "execution_count": 1,
   "metadata": {},
   "outputs": [],
   "source": [
    "# Python SQL toolkit and Object Relational Mapper\n",
    "import sqlalchemy\n",
    "from sqlalchemy.ext.automap import automap_base\n",
    "from sqlalchemy.orm import Session\n",
    "from sqlalchemy import create_engine, inspect\n",
    "\n",
    "# Import modules to declare columns and column data types\n",
    "from sqlalchemy import Column, Integer, String, Float"
   ]
  },
  {
   "cell_type": "code",
   "execution_count": 2,
   "metadata": {},
   "outputs": [],
   "source": [
    "# Create engine using the `VAERS.sqlite` database file\n",
    "engine = create_engine(\"sqlite:///Data/VAERS.sqlite\", echo=False)"
   ]
  },
  {
   "cell_type": "code",
   "execution_count": 3,
   "metadata": {},
   "outputs": [],
   "source": [
    "# Declare a Base using `automap_base()`\n",
    "Base = automap_base()\n",
    "\n",
    "# Create the VAERS class and define the VAERS_ID column as the primary key\n",
    "class VAERS(Base):\n",
    "    __tablename__ = '2021VAERS'\n",
    "    VAERS_ID = Column(Integer, primary_key=True)\n",
    "\n",
    "Base.prepare(engine, reflect=True)"
   ]
  },
  {
   "cell_type": "code",
   "execution_count": 4,
   "metadata": {},
   "outputs": [
    {
     "data": {
      "text/plain": [
       "['2021VAERS']"
      ]
     },
     "execution_count": 4,
     "metadata": {},
     "output_type": "execute_result"
    }
   ],
   "source": [
    "# Create the inspector and connect it to the engine\n",
    "inspector = inspect(engine)\n",
    "# Collect the names of tables within the database\n",
    "inspector.get_table_names()"
   ]
  },
  {
   "cell_type": "code",
   "execution_count": 5,
   "metadata": {},
   "outputs": [
    {
     "name": "stdout",
     "output_type": "stream",
     "text": [
      "index BIGINT\n",
      "VAERS_ID BIGINT\n",
      "VAX_TYPE TEXT\n",
      "VAX_MANU TEXT\n",
      "VAX_DOSE_SERIES TEXT\n",
      "VAX_SITE TEXT\n",
      "STATE TEXT\n",
      "AGE_YRS FLOAT\n",
      "SEX TEXT\n",
      "DIED TEXT\n",
      "DATEDIED TEXT\n",
      "L_THREAT TEXT\n",
      "ER_VISIT FLOAT\n",
      "HOSPITAL TEXT\n",
      "HOSPDAYS FLOAT\n",
      "X_STAY TEXT\n",
      "DISABLE TEXT\n",
      "RECOVD TEXT\n",
      "VAX_DATE TEXT\n",
      "ONSET_DATE TEXT\n",
      "NUMDAYS FLOAT\n",
      "SYMPTOM1 TEXT\n",
      "SYMPTOM2 TEXT\n",
      "SYMPTOM3 TEXT\n",
      "SYMPTOM4 TEXT\n",
      "SYMPTOM5 TEXT\n"
     ]
    }
   ],
   "source": [
    "# Using the inspector to print the column names within the '2021VAERS' table and its types\n",
    "columns = inspector.get_columns('2021VAERS')\n",
    "for column in columns:\n",
    "    print(column[\"name\"], column[\"type\"])"
   ]
  },
  {
   "cell_type": "code",
   "execution_count": 6,
   "metadata": {},
   "outputs": [
    {
     "name": "stdout",
     "output_type": "stream",
     "text": [
      "(916710,)\n",
      "(916741,)\n",
      "(916741,)\n",
      "(916742,)\n",
      "(916742,)\n",
      "(916746,)\n",
      "(916746,)\n",
      "(916772,)\n",
      "(916790,)\n",
      "(916790,)\n"
     ]
    }
   ],
   "source": [
    "# Use `engine.execute` to select and display the first 10 rows from the emoji table\n",
    "data = engine.execute(\"SELECT VAERS_ID FROM '2021VAERS' LIMIT 10\")\n",
    "for record in data:\n",
    "    \n",
    "    print(record)"
   ]
  },
  {
   "cell_type": "code",
   "execution_count": 7,
   "metadata": {},
   "outputs": [],
   "source": [
    "# Use the Base class to reflect the database tables\n",
    "Base.prepare(engine, reflect=True)"
   ]
  },
  {
   "cell_type": "code",
   "execution_count": 8,
   "metadata": {},
   "outputs": [],
   "source": [
    "# Create a session\n",
    "session = Session(engine)"
   ]
  },
  {
   "cell_type": "code",
   "execution_count": 9,
   "metadata": {},
   "outputs": [
    {
     "data": {
      "text/plain": [
       "['2021VAERS']"
      ]
     },
     "execution_count": 9,
     "metadata": {},
     "output_type": "execute_result"
    }
   ],
   "source": [
    "# Print all of the classes mapped to the Base\n",
    "Base.classes.keys()"
   ]
  },
  {
   "cell_type": "code",
   "execution_count": 10,
   "metadata": {},
   "outputs": [
    {
     "data": {
      "text/plain": [
       "sqlalchemy.ext.automap.2021VAERS"
      ]
     },
     "execution_count": 10,
     "metadata": {},
     "output_type": "execute_result"
    }
   ],
   "source": [
    "# Assign the dow class to a variable called `Vaers`\n",
    "Vaers = Base.classes['2021VAERS']\n",
    "Vaers"
   ]
  },
  {
   "cell_type": "code",
   "execution_count": 11,
   "metadata": {},
   "outputs": [
    {
     "data": {
      "text/plain": [
       "{'_sa_instance_state': <sqlalchemy.orm.state.InstanceState at 0x7fc9877f24e0>,\n",
       " 'index': 0,\n",
       " 'RECOVD': 'U',\n",
       " 'DIED': None,\n",
       " 'SYMPTOM5': None,\n",
       " 'VAX_TYPE': 'COVID19',\n",
       " 'VAX_DATE': '12/29/2020',\n",
       " 'DATEDIED': None,\n",
       " 'ONSET_DATE': '01/01/2021',\n",
       " 'VAX_MANU': 'MODERNA',\n",
       " 'L_THREAT': 'Y',\n",
       " 'VAX_DOSE_SERIES': '1',\n",
       " 'NUMDAYS': 3.0,\n",
       " 'ER_VISIT': None,\n",
       " 'VAX_SITE': 'LA',\n",
       " 'SYMPTOM1': 'Appendicitis',\n",
       " 'HOSPITAL': 'Y',\n",
       " 'STATE': 'MO',\n",
       " 'SYMPTOM2': 'Band neutrophil percentage increased',\n",
       " 'HOSPDAYS': None,\n",
       " 'AGE_YRS': 23.0,\n",
       " 'SYMPTOM3': 'Surgery',\n",
       " 'VAERS_ID': 916710,\n",
       " 'X_STAY': None,\n",
       " 'SEX': 'F',\n",
       " 'SYMPTOM4': 'White blood cell count increased',\n",
       " 'DISABLE': None}"
      ]
     },
     "execution_count": 11,
     "metadata": {},
     "output_type": "execute_result"
    }
   ],
   "source": [
    "# Display the row's columns and data in dictionary format\n",
    "first_row = session.query(Vaers).first()\n",
    "first_row.__dict__"
   ]
  },
  {
   "cell_type": "code",
   "execution_count": 12,
   "metadata": {},
   "outputs": [],
   "source": [
    "# Import dependencies \n",
    "import pandas as pd\n",
    "import sqlite3"
   ]
  },
  {
   "cell_type": "code",
   "execution_count": 13,
   "metadata": {},
   "outputs": [],
   "source": [
    "# Set up the connection to our database\n",
    "conn = sqlite3.connect(\"Data/VAERS.db\")"
   ]
  },
  {
   "cell_type": "code",
   "execution_count": 14,
   "metadata": {},
   "outputs": [],
   "source": [
    "# Create a cursor object\n",
    "cur = conn.cursor()"
   ]
  },
  {
   "cell_type": "code",
   "execution_count": 15,
   "metadata": {},
   "outputs": [
    {
     "data": {
      "text/plain": [
       "<sqlite3.Cursor at 0x7fc987727960>"
      ]
     },
     "execution_count": 15,
     "metadata": {},
     "output_type": "execute_result"
    }
   ],
   "source": [
    "# Execute a SQL query\n",
    "cur.execute(\"select * from '2021VAERS' limit 5;\")"
   ]
  },
  {
   "cell_type": "code",
   "execution_count": 16,
   "metadata": {},
   "outputs": [
    {
     "name": "stdout",
     "output_type": "stream",
     "text": [
      "[(0, 916710, 'COVID19', 'MODERNA', '1', 'LA', 'MO', 23.0, 'F', None, None, 'Y', None, 'Y', None, None, None, 'U', '12/29/2020', '01/01/2021', 3.0, 'Appendicitis', 'Band neutrophil percentage increased', 'Surgery', 'White blood cell count increased', None), (1, 916741, 'COVID19', 'PFIZER\\\\BIONTECH', '1', 'LA', 'AR', 68.0, 'F', None, None, None, None, None, None, None, 'Y', 'N', '12/21/2020', '12/22/2020', 1.0, 'Chills', 'Complex regional pain syndrome', 'Fatigue', 'Headache', 'Joint range of motion decreased'), (2, 916741, 'COVID19', 'PFIZER\\\\BIONTECH', '1', 'LA', 'AR', 68.0, 'F', None, None, None, None, None, None, None, 'Y', 'N', '12/21/2020', '12/22/2020', 1.0, 'Myalgia', 'Pain in extremity', 'Peripheral swelling', 'X-ray abnormal', None), (3, 916742, 'COVID19', 'PFIZER\\\\BIONTECH', '1', None, 'MN', 29.0, 'F', None, None, 'Y', None, 'Y', 4.0, None, None, 'U', '12/29/2020', '12/29/2020', 0.0, 'Anaphylactic reaction', 'Blood test', 'Burning sensation', 'Central venous catheterisation', 'Dysphonia'), (4, 916742, 'COVID19', 'PFIZER\\\\BIONTECH', '1', None, 'MN', 29.0, 'F', None, None, 'Y', None, 'Y', 4.0, None, None, 'U', '12/29/2020', '12/29/2020', 0.0, 'Intensive care', 'Pruritus', 'Rash', 'Rash macular', 'Throat tightness')]\n"
     ]
    }
   ],
   "source": [
    "# Fetch the results\n",
    "results = cur.fetchall()\n",
    "print(results)"
   ]
  },
  {
   "cell_type": "code",
   "execution_count": null,
   "metadata": {},
   "outputs": [],
   "source": []
  }
 ],
 "metadata": {
  "kernelspec": {
   "display_name": "Python [conda env:PythonData] *",
   "language": "python",
   "name": "conda-env-PythonData-py"
  },
  "language_info": {
   "codemirror_mode": {
    "name": "ipython",
    "version": 3
   },
   "file_extension": ".py",
   "mimetype": "text/x-python",
   "name": "python",
   "nbconvert_exporter": "python",
   "pygments_lexer": "ipython3",
   "version": "3.6.12"
  }
 },
 "nbformat": 4,
 "nbformat_minor": 4
}
